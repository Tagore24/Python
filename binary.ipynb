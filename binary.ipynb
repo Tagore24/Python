{
 "cells": [
  {
   "cell_type": "code",
   "execution_count": 1,
   "id": "0c05c8bc-96bb-4b99-b799-e4eae0f6ce03",
   "metadata": {},
   "outputs": [
    {
     "name": "stdin",
     "output_type": "stream",
     "text": [
      "Enter the list of numbers separated by spacs:  2 4 5 6 7\n",
      "Enter the target value to search:  5\n"
     ]
    },
    {
     "name": "stdout",
     "output_type": "stream",
     "text": [
      "Target 5 found at index 2.\n"
     ]
    }
   ],
   "source": [
    "arr = input(\"Enter the list of numbers separated by spacs: \").split()\n",
    "arr = [int(x) for x in arr]\n",
    "\n",
    "target = int(input(\"Enter the target value to search: \"))\n",
    "\n",
    "found = False\n",
    "for i in range(len(arr)):\n",
    "    if arr[i] == target:\n",
    "        print(f\"Target {target} found at index {i}.\")\n",
    "        found = True\n",
    "        break\n",
    "\n",
    "if not found:\n",
    "    print(f\"Target {target} not found in the array.\")"
   ]
  },
  {
   "cell_type": "code",
   "execution_count": 5,
   "id": "65471718-9bad-466c-89f8-d48222bd2066",
   "metadata": {},
   "outputs": [
    {
     "name": "stdin",
     "output_type": "stream",
     "text": [
      "Enter the sorted list of numbers separsted by spaces:  5 4 6 3 7\n",
      "Enter the target value to search:  8\n"
     ]
    },
    {
     "name": "stdout",
     "output_type": "stream",
     "text": [
      "Target 8 not found in the array.\n"
     ]
    }
   ],
   "source": [
    "arr = [int(x) for x in input(\"Enter the sorted list of numbers separsted by spaces: \").split()]\n",
    "target = int(input(\"Enter the target value to search: \"))\n",
    "\n",
    "start, end = 0,len(arr)-1\n",
    "found = False\n",
    "while start <= end:\n",
    "    mid = (start + end) // 2\n",
    "    if arr[mid] == target:\n",
    "        print(f\"Target {target} found at index {mid}.\")\n",
    "        found = True\n",
    "        break\n",
    "    elif arr[mid] < target:\n",
    "        start = mid + 1\n",
    "    else:\n",
    "        end = mid - 1\n",
    "\n",
    "if not found:\n",
    "    print(f\"Target {target} not found in the array.\")"
   ]
  },
  {
   "cell_type": "code",
   "execution_count": null,
   "id": "3fc7a6d9-23b0-40fe-9eb2-dcb9ded8b12e",
   "metadata": {},
   "outputs": [],
   "source": []
  }
 ],
 "metadata": {
  "kernelspec": {
   "display_name": "anaconda-2024.02-py310",
   "language": "python",
   "name": "conda-env-anaconda-2024.02-py310-py"
  },
  "language_info": {
   "codemirror_mode": {
    "name": "ipython",
    "version": 3
   },
   "file_extension": ".py",
   "mimetype": "text/x-python",
   "name": "python",
   "nbconvert_exporter": "python",
   "pygments_lexer": "ipython3",
   "version": "3.10.14"
  }
 },
 "nbformat": 4,
 "nbformat_minor": 5
}

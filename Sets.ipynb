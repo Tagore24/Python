{
 "cells": [
  {
   "cell_type": "code",
   "execution_count": 5,
   "id": "1d699ea4-aff4-4c98-97c9-7c266735334d",
   "metadata": {},
   "outputs": [
    {
     "name": "stdout",
     "output_type": "stream",
     "text": [
      "True\n",
      "False\n"
     ]
    }
   ],
   "source": [
    "a={1,2,3,4}\n",
    "print(1 in a)\n",
    "print(2 not in a)\n"
   ]
  },
  {
   "cell_type": "code",
   "execution_count": 9,
   "id": "090e3d38-0b40-4066-8e1a-4a4e7f1709aa",
   "metadata": {},
   "outputs": [
    {
     "name": "stdout",
     "output_type": "stream",
     "text": [
      "True\n",
      "False\n"
     ]
    }
   ],
   "source": [
    "a={1,2,3,4}\n",
    "b={4,3,2,1}\n",
    "print(a==b)\n",
    "print(a!=b)"
   ]
  },
  {
   "cell_type": "code",
   "execution_count": 21,
   "id": "6aae101c-75e2-41bc-b7f6-62a6c12f6c05",
   "metadata": {},
   "outputs": [
    {
     "name": "stdout",
     "output_type": "stream",
     "text": [
      "frozenset({1, 2, 3, 4})\n"
     ]
    }
   ],
   "source": [
    "a=frozenset([1,2,3,4])\n",
    "print(a)"
   ]
  },
  {
   "cell_type": "code",
   "execution_count": 27,
   "id": "d2c3e6ef-75e1-48ca-be79-f735c1e3b7e4",
   "metadata": {},
   "outputs": [
    {
     "name": "stdout",
     "output_type": "stream",
     "text": [
      "{2}\n"
     ]
    }
   ],
   "source": [
    "res = {s for s in [1,2,3] if s%2==0}\n",
    "print(res)"
   ]
  },
  {
   "cell_type": "code",
   "execution_count": 43,
   "id": "5ab78fc9-2091-4991-8966-9671993261d8",
   "metadata": {},
   "outputs": [
    {
     "name": "stdout",
     "output_type": "stream",
     "text": [
      "bye\n",
      "143\n",
      "32.4\n"
     ]
    }
   ],
   "source": [
    "d={1:\"bye\",\"a\":143,100:32.4}\n",
    "print(d[1])\n",
    "print(d['a'])\n",
    "print(d[100])"
   ]
  },
  {
   "cell_type": "code",
   "execution_count": 45,
   "id": "4066e233-9e18-4a6d-871a-efe224dbc02b",
   "metadata": {},
   "outputs": [
    {
     "name": "stdout",
     "output_type": "stream",
     "text": [
      "143\n"
     ]
    }
   ],
   "source": [
    "d={1:\"bye\",\"a\":143,100:32.4}\n",
    "print(d.get('a'))"
   ]
  },
  {
   "cell_type": "code",
   "execution_count": 47,
   "id": "4ddc35ed-e41c-48c3-926a-546ff071d4a6",
   "metadata": {},
   "outputs": [
    {
     "name": "stdout",
     "output_type": "stream",
     "text": [
      "1 : bye\n",
      "a : 143\n",
      "100 : 32.4\n"
     ]
    }
   ],
   "source": [
    "d={1:\"bye\",\"a\":143,100:32.4}\n",
    "for i in d:\n",
    "    print(i,':',d[i])"
   ]
  },
  {
   "cell_type": "code",
   "execution_count": 49,
   "id": "28457b1f-cfff-4ebe-bc73-f899489cfcba",
   "metadata": {},
   "outputs": [
    {
     "name": "stdout",
     "output_type": "stream",
     "text": [
      "{1: 1000, 'a': 143, 100: 32.4}\n"
     ]
    }
   ],
   "source": [
    "d={1:\"bye\",\"a\":143,100:32.4}\n",
    "d[1]=1000\n",
    "print(d)"
   ]
  },
  {
   "cell_type": "code",
   "execution_count": 53,
   "id": "29571ca5-6e92-467f-93fe-5622d7ab2e28",
   "metadata": {},
   "outputs": [
    {
     "name": "stdout",
     "output_type": "stream",
     "text": [
      "{1: 'bye', 'a': 143, 100: 32.4, 2: 'Python'}\n"
     ]
    }
   ],
   "source": [
    "d={1:\"bye\",\"a\":143,100:32.4}\n",
    "d[2]=\"Python\"\n",
    "print(d)"
   ]
  },
  {
   "cell_type": "code",
   "execution_count": 61,
   "id": "abaeb0d5-0ff2-43d5-8795-ed8428aa8563",
   "metadata": {},
   "outputs": [
    {
     "name": "stdout",
     "output_type": "stream",
     "text": [
      "{'a': 143, 100: 32.4}\n"
     ]
    }
   ],
   "source": [
    "d={1:\"bye\",\"a\":143,100:32.4}\n",
    "del d[1]\n",
    "print(d)"
   ]
  },
  {
   "cell_type": "code",
   "execution_count": 63,
   "id": "b2ea62f7-20d5-45a6-b78b-1295c01a542e",
   "metadata": {},
   "outputs": [
    {
     "name": "stdout",
     "output_type": "stream",
     "text": [
      "32.4\n"
     ]
    }
   ],
   "source": [
    "d={1:\"bye\",\"a\":143,100:32.4}\n",
    "print(d.get(100))"
   ]
  },
  {
   "cell_type": "code",
   "execution_count": 65,
   "id": "d3939076-def7-4c16-acda-e20ceb2c6e74",
   "metadata": {},
   "outputs": [
    {
     "name": "stdout",
     "output_type": "stream",
     "text": [
      "{1: 'abc', 'a': 143, 100: 32.4, 2: 451}\n"
     ]
    }
   ],
   "source": [
    "d={1:\"bye\",\"a\":143,100:32.4}\n",
    "d.update({1:'abc',2:451})\n",
    "print(d)"
   ]
  },
  {
   "cell_type": "code",
   "execution_count": 67,
   "id": "d1c43a8d-3655-48f5-968c-6d851e0bbf2d",
   "metadata": {},
   "outputs": [
    {
     "name": "stdout",
     "output_type": "stream",
     "text": [
      "{1: 'bye', 'a': 143, 100: 32.4}\n"
     ]
    }
   ],
   "source": [
    "d={1:\"bye\",\"a\":143,100:32.4}\n",
    "d1=d.copy()\n",
    "print(d1)"
   ]
  },
  {
   "cell_type": "code",
   "execution_count": 69,
   "id": "6b47b401-7b5c-40a7-9565-ff0e990e667e",
   "metadata": {},
   "outputs": [
    {
     "name": "stdout",
     "output_type": "stream",
     "text": [
      "{1: 'bye', 'a': 143}\n"
     ]
    }
   ],
   "source": [
    "d={1:\"bye\",\"a\":143,100:32.4}\n",
    "d.popitem()\n",
    "print(d)"
   ]
  },
  {
   "cell_type": "code",
   "execution_count": 73,
   "id": "15c04c66-8b97-4ca0-b1cf-120b2271ab41",
   "metadata": {},
   "outputs": [
    {
     "name": "stdout",
     "output_type": "stream",
     "text": [
      "{1: 'bye', 100: 32.4}\n"
     ]
    }
   ],
   "source": [
    "d={1:\"bye\",\"a\":143,100:32.4}\n",
    "d.pop('a')\n",
    "print(d)"
   ]
  },
  {
   "cell_type": "code",
   "execution_count": 84,
   "id": "0e988a1d-b6a8-4f39-8cfd-96b5867cebab",
   "metadata": {},
   "outputs": [
    {
     "name": "stdout",
     "output_type": "stream",
     "text": [
      "dict_keys([1, 'a', 100])\n"
     ]
    }
   ],
   "source": [
    "d={1:\"bye\",\"a\":143,100:32.4}\n",
    "print(d.keys())"
   ]
  },
  {
   "cell_type": "code",
   "execution_count": 86,
   "id": "7ebf46bf-2aa1-4230-9421-3a5610679e02",
   "metadata": {},
   "outputs": [
    {
     "name": "stdout",
     "output_type": "stream",
     "text": [
      "dict_values(['bye', 143, 32.4])\n"
     ]
    }
   ],
   "source": [
    "d={1:\"bye\",\"a\":143,100:32.4}\n",
    "print(d.values())"
   ]
  },
  {
   "cell_type": "code",
   "execution_count": 88,
   "id": "a89378bf-ab6b-4408-9d39-0900191bfe88",
   "metadata": {},
   "outputs": [
    {
     "name": "stdout",
     "output_type": "stream",
     "text": [
      "dict_items([(1, 'bye'), ('a', 143), (100, 32.4)])\n"
     ]
    }
   ],
   "source": [
    "d={1:\"bye\",\"a\":143,100:32.4}\n",
    "print(d.items())"
   ]
  },
  {
   "cell_type": "code",
   "execution_count": 98,
   "id": "12050f22-3519-4a42-818d-ab58db9bcec6",
   "metadata": {},
   "outputs": [
    {
     "name": "stdout",
     "output_type": "stream",
     "text": [
      "{'b': 10, 'd': 10, 'a': 10, 'c': 10}\n"
     ]
    }
   ],
   "source": [
    "d={'a','b','c','d'}\n",
    "d=dict.fromkeys(d,10)\n",
    "print(d)"
   ]
  },
  {
   "cell_type": "code",
   "execution_count": 100,
   "id": "f6c93a04-5826-442d-a2f4-e1bd62aa8488",
   "metadata": {},
   "outputs": [
    {
     "name": "stdout",
     "output_type": "stream",
     "text": [
      "123\n",
      "None\n",
      "{1: 'h1', 'a': 123, 100: 32.4, 'b': None}\n",
      "200\n",
      "{1: 'h1', 'a': 123, 100: 32.4, 'b': None, 'c': 200}\n"
     ]
    }
   ],
   "source": [
    "d={1:'h1','a':123,100:32.4}\n",
    "print(d.setdefault('a'))\n",
    "print(d.setdefault('b'))\n",
    "print(d)\n",
    "print(d.setdefault('c',200))\n",
    "print(d)"
   ]
  },
  {
   "cell_type": "code",
   "execution_count": 108,
   "id": "64fb4e59-743a-4d6b-9313-cc9c181d6d62",
   "metadata": {},
   "outputs": [
    {
     "name": "stdout",
     "output_type": "stream",
     "text": [
      "abc\n"
     ]
    }
   ],
   "source": [
    "d={1:'h1','a':123,100:{2:'abc','x':453,3.2:120},5.4:'python'}\n",
    "print(d[100][2])"
   ]
  },
  {
   "cell_type": "code",
   "execution_count": 120,
   "id": "2e826672-96aa-469b-bb03-366fdde178f5",
   "metadata": {},
   "outputs": [
    {
     "name": "stdout",
     "output_type": "stream",
     "text": [
      "Student\n"
     ]
    }
   ],
   "source": [
    "Student={\n",
    "    \"name\":'Emma',\n",
    "    \"class\":9,\n",
    "    \"marks\":75\n",
    "}\n",
    "del Student[0:2]\n",
    "print(\"Student\")"
   ]
  },
  {
   "cell_type": "code",
   "execution_count": 122,
   "id": "e087cfcd-1ea8-4c3f-afd5-65ccc0e2cceb",
   "metadata": {},
   "outputs": [
    {
     "data": {
      "text/plain": [
       "{1: 'bye', 'a': 143, 100: 32.4}"
      ]
     },
     "execution_count": 122,
     "metadata": {},
     "output_type": "execute_result"
    }
   ],
   "source": [
    "d={'a':1,'b':2,'c':3,'d':4,'e':5}\n",
    "d1={k=v*2 for "
   ]
  },
  {
   "cell_type": "code",
   "execution_count": 125,
   "id": "6fbf530c-a3b6-470b-b119-6f4ffe5d5b0c",
   "metadata": {},
   "outputs": [
    {
     "name": "stdin",
     "output_type": "stream",
     "text": [
      "no of elements: 2\n",
      "enter key for first dict: 2 1\n",
      "enter its value: 2\n",
      "enter key for first dict: 3\n",
      "enter its value: 2\n",
      " 4 \n",
      " 3\n"
     ]
    },
    {
     "name": "stdout",
     "output_type": "stream",
     "text": [
      "{'2 1': '2', '3': '2', '4 ': '3'}\n"
     ]
    }
   ],
   "source": [
    "import operator\n",
    "d={}\n",
    "n = int(input(\"no of elements:\"))\n",
    "for i in range(n):\n",
    "    k = input(\"enter key for first dict:\")\n",
    "    v = input(\"enter its value:\")\n",
    "    d[k]=v\n",
    "key=input()\n",
    "value=input()\n",
    "d.update({key:value})\n",
    "print(d)"
   ]
  },
  {
   "cell_type": "code",
   "execution_count": 181,
   "id": "70494e78-6dc6-40c5-b27d-622754b83b90",
   "metadata": {},
   "outputs": [
    {
     "name": "stdout",
     "output_type": "stream",
     "text": [
      "21\n"
     ]
    }
   ],
   "source": [
    "a=(\"PerumandlaRadhikaGoud\")\n",
    "print(len(a))"
   ]
  },
  {
   "cell_type": "code",
   "execution_count": 139,
   "id": "3d839327-fe8c-433a-b643-85752cf197ce",
   "metadata": {},
   "outputs": [
    {
     "name": "stdin",
     "output_type": "stream",
     "text": [
      "no of elements: 3\n",
      "enter key for dict: 2\n",
      "enter its value: 4\n",
      "enter key for dict: 3.2\n",
      "enter its value: 5\n",
      "enter key for dict: 2\n",
      "enter its value: 6\n",
      " 7\n"
     ]
    },
    {
     "name": "stdout",
     "output_type": "stream",
     "text": [
      "key is not present in the dictionary\n"
     ]
    }
   ],
   "source": [
    "import operator\n",
    "d={}\n",
    "n = int(input(\"no of elements:\"))\n",
    "for i in range(n):\n",
    "    k=input(\"enter key for dict:\")\n",
    "    v=input(\"enter its value:\")\n",
    "    d[k]=v\n",
    "key=input()\n",
    "if key in d:\n",
    "    print('key is present in the dictionary')\n",
    "else:\n",
    "    print('key is not present in the dictionary')"
   ]
  },
  {
   "cell_type": "code",
   "execution_count": 149,
   "id": "8aba0b33-e978-439c-b6be-cb4cbc760ea2",
   "metadata": {},
   "outputs": [
    {
     "name": "stdin",
     "output_type": "stream",
     "text": [
      "Input a number 4\n"
     ]
    },
    {
     "name": "stdout",
     "output_type": "stream",
     "text": [
      "{1: 1, 2: 4, 3: 9, 4: 16}\n"
     ]
    }
   ],
   "source": [
    "n=int(input(\"Input a number\"))\n",
    "d=dict()\n",
    "for x in range(1,n+1):\n",
    "    d[x]=x*x\n",
    "    \n",
    "print(d)"
   ]
  },
  {
   "cell_type": "code",
   "execution_count": 153,
   "id": "dcd22203-21e2-49cb-b440-08c795185c84",
   "metadata": {},
   "outputs": [
    {
     "name": "stdout",
     "output_type": "stream",
     "text": [
      "False\n"
     ]
    }
   ],
   "source": [
    "a={1,2,3,4}\n",
    "b={2,3,4,5}\n",
    "print(a.isdisjoint(b))\n"
   ]
  },
  {
   "cell_type": "code",
   "execution_count": 155,
   "id": "51e2f81d-cc52-467c-a997-1103a1892e1f",
   "metadata": {},
   "outputs": [
    {
     "name": "stdout",
     "output_type": "stream",
     "text": [
      "False\n"
     ]
    }
   ],
   "source": [
    "a={1,2,3,4}\n",
    "b={2,3,4,5}\n",
    "print(a.issuperset(b))"
   ]
  },
  {
   "cell_type": "code",
   "execution_count": 157,
   "id": "17aea1ae-8800-4c9d-b5f6-90846cabdf64",
   "metadata": {},
   "outputs": [
    {
     "name": "stdout",
     "output_type": "stream",
     "text": [
      "False\n"
     ]
    }
   ],
   "source": [
    "a={1,2,3,4}\n",
    "b={2,3,4,5}\n",
    "print(a.issubset(b))"
   ]
  },
  {
   "cell_type": "code",
   "execution_count": 159,
   "id": "44ffaf5a-d18d-479e-9415-96925bc77fa2",
   "metadata": {},
   "outputs": [
    {
     "name": "stdout",
     "output_type": "stream",
     "text": [
      "{1, 5}\n",
      "{1, 5}\n"
     ]
    }
   ],
   "source": [
    "a={1,2,3,4}\n",
    "b={2,3,4,5}\n",
    "print(a.symmetric_difference(b))\n",
    "print(a^b)"
   ]
  },
  {
   "cell_type": "code",
   "execution_count": 163,
   "id": "3e9591fb-e74f-45e8-8034-f1445660f4a6",
   "metadata": {},
   "outputs": [
    {
     "name": "stdout",
     "output_type": "stream",
     "text": [
      "{1, 5}\n"
     ]
    }
   ],
   "source": [
    "a={1,2,3,4}\n",
    "b={2,3,4,5}\n",
    "a.symmetric_difference_update(b)\n",
    "print(a)"
   ]
  },
  {
   "cell_type": "code",
   "execution_count": 165,
   "id": "ffe48f51-56aa-4aed-a80c-87d7f8f303c8",
   "metadata": {},
   "outputs": [
    {
     "name": "stdout",
     "output_type": "stream",
     "text": [
      "{1}\n",
      "{1}\n"
     ]
    }
   ],
   "source": [
    "a={1,2,3,4}\n",
    "b={2,3,4,5}\n",
    "print(a.difference(b))\n",
    "print(a-b)"
   ]
  },
  {
   "cell_type": "code",
   "execution_count": 167,
   "id": "ffa511be-c44f-4cb0-948c-6a204188ea73",
   "metadata": {},
   "outputs": [
    {
     "name": "stdout",
     "output_type": "stream",
     "text": [
      "{1}\n"
     ]
    }
   ],
   "source": [
    "a={1,2,3,4}\n",
    "b={2,3,4,5}\n",
    "a.difference_update(b)\n",
    "print(a)"
   ]
  },
  {
   "cell_type": "code",
   "execution_count": 175,
   "id": "8cbdc95c-29b3-40a5-9545-3f2561bd9351",
   "metadata": {},
   "outputs": [
    {
     "name": "stdout",
     "output_type": "stream",
     "text": [
      "{3.4, 'hi', 12}\n"
     ]
    }
   ],
   "source": [
    "s={10,'hi',12,3.4}\n",
    "s.remove(10)\n",
    "print(s)"
   ]
  },
  {
   "cell_type": "code",
   "execution_count": 173,
   "id": "04d5720e-622c-4ba9-a272-936ea6ba480c",
   "metadata": {},
   "outputs": [
    {
     "name": "stdout",
     "output_type": "stream",
     "text": [
      "{3.4, 10, 'hi'}\n"
     ]
    }
   ],
   "source": [
    "s={10,'hi',12,3.4}\n",
    "s.discard(12)\n",
    "print(s)"
   ]
  },
  {
   "cell_type": "code",
   "execution_count": null,
   "id": "c9edd323-a0ff-46a3-add8-a53ffe42238f",
   "metadata": {},
   "outputs": [],
   "source": [
    "import operator\n",
    "d={}\n",
    "d1={}\n",
    "n = int(input(\"no of elements:\"))\n",
    "for i in range(n):\n",
    "    k=input(\"enter key for dict:\")\n",
    "    v=input(\"enter its value:\")\n",
    "    d[k]=v\n",
    "for i in range(n):\n",
    "    k=input(\"enter key for dict:\")\n",
    "    v=input(\"enter its value:\")\n",
    "    d1[k]=v\n",
    "d2=d.copy()\n",
    "d2.update(d1)\n",
    "print(d2)"
   ]
  },
  {
   "cell_type": "markdown",
   "id": "a831345b-ce60-4839-8309-321177685ab3",
   "metadata": {
    "jp-MarkdownHeadingCollapsed": true
   },
   "source": [
    "import operator\n",
    "d={}\n",
    "n = int(input(\"no of elements:\"))\n",
    "for i in range(n):\n",
    "    k=input(\"enter key for dict:\")\n",
    "    v=input(\"enter its value:\")\n",
    "    d[k]=v\n",
    "key=int(input())\n",
    "if key in d:\n",
    "    del d[key]\n",
    "pr"
   ]
  },
  {
   "cell_type": "code",
   "execution_count": 4,
   "id": "b0dae304-2080-4a23-b8be-46512eae808c",
   "metadata": {},
   "outputs": [
    {
     "name": "stdin",
     "output_type": "stream",
     "text": [
      "no .of elements: 1\n",
      "enter key for first dict: 2\n",
      "Enter its value: 3\n",
      " 2\n"
     ]
    },
    {
     "name": "stdout",
     "output_type": "stream",
     "text": [
      "{}\n"
     ]
    }
   ],
   "source": [
    "d={}\n",
    "n=int(input(\"no .of elements:\"))\n",
    "for i in range(n):\n",
    "    k=input(\"enter key for first dict:\")\n",
    "    v=input(\"Enter its value:\")\n",
    "    d[k]=v\n",
    "s=input()\n",
    "if s in d:\n",
    "    del d[s]\n",
    "print(d)"
   ]
  },
  {
   "cell_type": "code",
   "execution_count": 2,
   "id": "7653e30a-2d68-4d92-ab15-ee03b00e3f54",
   "metadata": {},
   "outputs": [
    {
     "name": "stdin",
     "output_type": "stream",
     "text": [
      "no .of elements: 1\n",
      "enter key for first dict: 2\n",
      "Enter its value: 3\n",
      " 1 2\n"
     ]
    },
    {
     "name": "stdout",
     "output_type": "stream",
     "text": [
      "{'2': '3'}\n"
     ]
    }
   ],
   "source": [
    "d={}\n",
    "n=int(input(\"no .of elements:\"))\n",
    "for i in range(n):\n",
    "    k=input(\"enter key for first dict:\")\n",
    "    v=input(\"Enter its value:\")\n",
    "    d[k]=v\n",
    "s=input()\n",
    "if s in d:\n",
    "    del d[s]\n",
    "print(d)\n"
   ]
  },
  {
   "cell_type": "code",
   "execution_count": 8,
   "id": "6ff1b941-65a6-4695-bf13-2a1a992b5149",
   "metadata": {},
   "outputs": [
    {
     "name": "stdin",
     "output_type": "stream",
     "text": [
      " 2\n",
      " 1\n"
     ]
    },
    {
     "name": "stdout",
     "output_type": "stream",
     "text": [
      "{'2': '1'}\n"
     ]
    }
   ],
   "source": [
    "keys=input().split()\n",
    "values=input().split()\n",
    "d=dict(zip(keys,values))\n",
    "print(d)"
   ]
  },
  {
   "cell_type": "code",
   "execution_count": null,
   "id": "6a949fde-bcca-4c39-b03a-b8d284324dcc",
   "metadata": {},
   "outputs": [],
   "source": []
  }
 ],
 "metadata": {
  "kernelspec": {
   "display_name": "anaconda-2024.02-py310",
   "language": "python",
   "name": "conda-env-anaconda-2024.02-py310-py"
  },
  "language_info": {
   "codemirror_mode": {
    "name": "ipython",
    "version": 3
   },
   "file_extension": ".py",
   "mimetype": "text/x-python",
   "name": "python",
   "nbconvert_exporter": "python",
   "pygments_lexer": "ipython3",
   "version": "3.10.14"
  }
 },
 "nbformat": 4,
 "nbformat_minor": 5
}

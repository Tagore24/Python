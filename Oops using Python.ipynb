{
 "cells": [
  {
   "cell_type": "code",
   "execution_count": 18,
   "id": "3db6f2c6-3cdc-454f-b9a6-9daeb690f11d",
   "metadata": {},
   "outputs": [
    {
     "name": "stdin",
     "output_type": "stream",
     "text": [
      " 5\n"
     ]
    },
    {
     "name": "stdout",
     "output_type": "stream",
     "text": [
      "5\n",
      "4\n",
      "3\n",
      "2\n",
      "1\n"
     ]
    }
   ],
   "source": [
    "def fun(n):\n",
    "    if (n>0):\n",
    "        print(n)\n",
    "        fun(n-1)\n",
    "n=int(input())\n",
    "fun(n)\n",
    "\n",
    "\n",
    "\n",
    "\n",
    "\n"
   ]
  },
  {
   "cell_type": "code",
   "execution_count": null,
   "id": "893e51db-d998-46c9-be33-04bc73a8d6d6",
   "metadata": {},
   "outputs": [],
   "source": []
  },
  {
   "cell_type": "code",
   "execution_count": 22,
   "id": "476024e3-4aac-4c0a-a69e-63127ab9dbff",
   "metadata": {},
   "outputs": [
    {
     "name": "stdin",
     "output_type": "stream",
     "text": [
      "Enter the number of terms: 5\n"
     ]
    },
    {
     "name": "stdout",
     "output_type": "stream",
     "text": [
      "fibonacci0)=0\n",
      "fibonacci1)=1\n",
      "fibonacci2)=1\n",
      "fibonacci3)=2\n",
      "fibonacci4)=3\n"
     ]
    }
   ],
   "source": [
    "def fibonacci(n):\n",
    "    if n<=1:\n",
    "        return n\n",
    "    else:\n",
    "        return fibonacci(n-1)+fibonacci(n-2)\n",
    "num_terms=int(input(\"Enter the number of terms:\"))\n",
    "for i in range(num_terms):\n",
    "    print(f\"fibonacci({i})={fibonacci(i)}\")"
   ]
  },
  {
   "cell_type": "code",
   "execution_count": 57,
   "id": "abeb713d-2a41-4e0e-8841-1b840379360f",
   "metadata": {},
   "outputs": [
    {
     "name": "stdout",
     "output_type": "stream",
     "text": [
      "Hello, my name is Munny\n"
     ]
    }
   ],
   "source": [
    "class Person:\n",
    "    def __init__(Myself, name):\n",
    "        Myself.name = name\n",
    "\n",
    "    def say_hi(Myself):\n",
    "        print(\"Hello, my name is\", Myself.name)\n",
    "\n",
    "p = Person(\"Munny\")\n",
    "p.say_hi()"
   ]
  },
  {
   "cell_type": "code",
   "execution_count": 71,
   "id": "d82650e4-e09d-4a3f-82e4-b7d777c8a022",
   "metadata": {},
   "outputs": [
    {
     "ename": "AttributeError",
     "evalue": "'test' object has no attribute 'a'",
     "output_type": "error",
     "traceback": [
      "\u001b[0;31m---------------------------------------------------------------------------\u001b[0m",
      "\u001b[0;31mAttributeError\u001b[0m                            Traceback (most recent call last)",
      "Cell \u001b[0;32mIn[71], line 7\u001b[0m\n\u001b[1;32m      5\u001b[0m         \u001b[38;5;28mprint\u001b[39m(\u001b[38;5;28mself\u001b[39m\u001b[38;5;241m.\u001b[39ma)\n\u001b[1;32m      6\u001b[0m obj\u001b[38;5;241m=\u001b[39mtest()\n\u001b[0;32m----> 7\u001b[0m \u001b[43mobj\u001b[49m\u001b[38;5;241;43m.\u001b[39;49m\u001b[43mdisplay\u001b[49m\u001b[43m(\u001b[49m\u001b[43m)\u001b[49m\n",
      "Cell \u001b[0;32mIn[71], line 5\u001b[0m, in \u001b[0;36mtest.display\u001b[0;34m(self)\u001b[0m\n\u001b[1;32m      4\u001b[0m \u001b[38;5;28;01mdef\u001b[39;00m \u001b[38;5;21mdisplay\u001b[39m(\u001b[38;5;28mself\u001b[39m):\n\u001b[0;32m----> 5\u001b[0m     \u001b[38;5;28mprint\u001b[39m(\u001b[38;5;28;43mself\u001b[39;49m\u001b[38;5;241;43m.\u001b[39;49m\u001b[43ma\u001b[49m)\n",
      "\u001b[0;31mAttributeError\u001b[0m: 'test' object has no attribute 'a'"
     ]
    }
   ],
   "source": [
    "class test:\n",
    "    def init(self,a=\"hello world\"):\n",
    "        self.a=a\n",
    "    def display(self):\n",
    "        print(self.a)\n",
    "obj=test()\n",
    "obj.display()"
   ]
  },
  {
   "cell_type": "code",
   "execution_count": 77,
   "id": "f17e7a0b-8551-4a5a-9acf-4187daa16834",
   "metadata": {},
   "outputs": [
    {
     "name": "stdout",
     "output_type": "stream",
     "text": [
      "first function\n",
      "second function\n"
     ]
    }
   ],
   "source": [
    "class Parent():\n",
    "    def first(self):\n",
    "        print(\"first function\")\n",
    "\n",
    "class child(Parent):\n",
    "    def second(self):\n",
    "        print(\"second function\")\n",
    "\n",
    "ob = child()\n",
    "ob.first()\n",
    "ob.second()"
   ]
  },
  {
   "cell_type": "code",
   "execution_count": 79,
   "id": "ae982ce6-231b-4e57-91b5-5b0ee32b00d3",
   "metadata": {},
   "outputs": [
    {
     "name": "stdout",
     "output_type": "stream",
     "text": [
      "this is function1\n",
      "this is function2\n",
      "this is function3\n"
     ]
    }
   ],
   "source": [
    "class Parent():\n",
    "    def func1(self):\n",
    "        print(\"this is function1\")\n",
    "\n",
    "class Parent2():\n",
    "    def func2(self):\n",
    "        print(\"this is function2\")\n",
    "\n",
    "\n",
    "class Child(Parent , Parent2):\n",
    "    def func3(self):\n",
    "        print(\"this is function3\")\n",
    "\n",
    "ob = Child()\n",
    "ob.func1()\n",
    "ob.func2()\n",
    "ob.func3()\n",
    "\n"
   ]
  },
  {
   "cell_type": "code",
   "execution_count": 102,
   "id": "9a5aabb8-59c4-4425-a968-b71e8aa708ca",
   "metadata": {},
   "outputs": [
    {
     "name": "stdout",
     "output_type": "stream",
     "text": [
      "0 1\n"
     ]
    }
   ],
   "source": [
    "class Test:\n",
    "    def __init__(self):\n",
    "        self.x=0\n",
    "class Derived_Test(Test):\n",
    "    def __init__(self):\n",
    "        Test.__init__(self)\n",
    "        self.y=1\n",
    "def main():\n",
    "    b=Derived_Test()\n",
    "    print(b.x,b.y)\n",
    "main()"
   ]
  },
  {
   "cell_type": "code",
   "execution_count": 100,
   "id": "bcf60b76-c511-4965-b00a-9e67a7a43c25",
   "metadata": {},
   "outputs": [
    {
     "name": "stdout",
     "output_type": "stream",
     "text": [
      "this is func1\n",
      "this is func2\n"
     ]
    }
   ],
   "source": [
    "class Parent:\n",
    "    def func1(self):\n",
    "         print(\"this is func1\")\n",
    "class Child(Parent):\n",
    "    def func2(self):\n",
    "         super().func1()\n",
    "         print(\"this is func2\")\n",
    "        \n",
    "ob = Child()\n",
    "ob.func2()  "
   ]
  },
  {
   "cell_type": "code",
   "execution_count": 115,
   "id": "f14d35a6-3c98-4054-bf50-bca1bf843a15",
   "metadata": {},
   "outputs": [
    {
     "name": "stdout",
     "output_type": "stream",
     "text": [
      "The Lion named Leo goes Roar\n",
      "Lions are the kings of the jungle.\n",
      "\n",
      "The Elephant named Ellie goes Trumpet\n",
      "Elephants are the largest land animals.\n",
      "\n",
      "The Snake named Slyther goes Hiss\n",
      "Snakes can be found on every continent except Antartica.\n",
      "\n"
     ]
    }
   ],
   "source": [
    "class Animal:\n",
    "    def __init__(self, name, species, sound):\n",
    "        self.name = name\n",
    "        self.species = species\n",
    "        self.sound = sound\n",
    "    def make_sound(self):\n",
    "        print(f\"The {self.species} named {self.name} goes {self.sound}\")\n",
    "\n",
    "\n",
    "class Lion(Animal):\n",
    "    def __init__(self,name):\n",
    "        super().__init__(name, \"Lion\", \"Roar\")\n",
    "    def get_info(self):\n",
    "        print(\"Lions are the kings of the jungle.\")\n",
    "class Elephant(Animal):\n",
    "    def __init__(self,name):\n",
    "        super().__init__(name, \"Elephant\", \"Trumpet\")\n",
    "    def get_info(self):\n",
    "        print(\"Elephants are the largest land animals.\")\n",
    "class Snake(Animal):\n",
    "    def __init__(self,name):\n",
    "        super().__init__(name, \"Snake\", \"Hiss\")\n",
    "    def get_info(self):\n",
    "        print(\"Snakes can be found on every continent except Antartica.\")\n",
    "\n",
    "\n",
    "leo = Lion(\"Leo\")\n",
    "ellie = Elephant(\"Ellie\")\n",
    "slyther = Snake(\"Slyther\")\n",
    "\n",
    "leo.make_sound()\n",
    "leo.get_info()\n",
    "print()\n",
    "\n",
    "ellie.make_sound()\n",
    "ellie.get_info()\n",
    "print()\n",
    "\n",
    "slyther.make_sound()\n",
    "slyther.get_info()\n",
    "print()\n",
    "         "
   ]
  },
  {
   "cell_type": "code",
   "execution_count": 119,
   "id": "2e944504-df46-46a5-9380-657deab0245e",
   "metadata": {},
   "outputs": [
    {
     "name": "stdin",
     "output_type": "stream",
     "text": [
      " 6\n",
      " ADAAAA\n"
     ]
    },
    {
     "name": "stdout",
     "output_type": "stream",
     "text": [
      "Anton\n"
     ]
    }
   ],
   "source": [
    "n = int(input())\n",
    "won = input()\n",
    "count1 = 0\n",
    "count2 = 0\n",
    "for i in won:\n",
    "    if i==\"A\":\n",
    "        count1 += 1\n",
    "    elif i==\"D\":\n",
    "        count2 += 1\n",
    "if count1>count2:\n",
    "    print(\"Anton\")\n",
    "elif count1<count2:\n",
    "    print(\"Danik\")\n",
    "else:\n",
    "    print(\"Friendship\")"
   ]
  },
  {
   "cell_type": "code",
   "execution_count": 123,
   "id": "0f163e77-0aa7-41e0-adae-763b4315442b",
   "metadata": {},
   "outputs": [
    {
     "name": "stdin",
     "output_type": "stream",
     "text": [
      " 6\n",
      " DADADA\n"
     ]
    },
    {
     "name": "stdout",
     "output_type": "stream",
     "text": [
      "friendship\n"
     ]
    }
   ],
   "source": [
    "n=int(input())\n",
    "s=str(input())\n",
    "anton=s.count('A')\n",
    "danik=s.count('D')\n",
    "\n",
    "if anton> danik:\n",
    "    print(\"Anton\")\n",
    "elif danik>anton:\n",
    "    print(\"Danik\")\n",
    "else:\n",
    "    print(\"friendship\")"
   ]
  },
  {
   "cell_type": "code",
   "execution_count": null,
   "id": "ea3127c3-7ca5-4360-9d46-e11fc93db7d2",
   "metadata": {},
   "outputs": [],
   "source": []
  }
 ],
 "metadata": {
  "kernelspec": {
   "display_name": "anaconda-2024.02-py310",
   "language": "python",
   "name": "conda-env-anaconda-2024.02-py310-py"
  },
  "language_info": {
   "codemirror_mode": {
    "name": "ipython",
    "version": 3
   },
   "file_extension": ".py",
   "mimetype": "text/x-python",
   "name": "python",
   "nbconvert_exporter": "python",
   "pygments_lexer": "ipython3",
   "version": "3.10.14"
  }
 },
 "nbformat": 4,
 "nbformat_minor": 5
}

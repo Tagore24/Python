{
 "cells": [
  {
   "cell_type": "code",
   "execution_count": 36,
   "id": "d69a1bcf-3418-4f5e-8763-f99c91fc7ea6",
   "metadata": {},
   "outputs": [
    {
     "name": "stdin",
     "output_type": "stream",
     "text": [
      " 3\n"
     ]
    },
    {
     "name": "stdout",
     "output_type": "stream",
     "text": [
      "0\n"
     ]
    }
   ],
   "source": [
    "n=int(input())\n",
    "X=0\n",
    "for i in r4ange (1,n+1):\n",
    "    X=X^i\n",
    "print(X)"
   ]
  },
  {
   "cell_type": "code",
   "execution_count": 54,
   "id": "6ffc83a6-f7e9-4047-b04a-e4e8a92c0399",
   "metadata": {},
   "outputs": [
    {
     "name": "stdin",
     "output_type": "stream",
     "text": [
      " 7\n"
     ]
    },
    {
     "name": "stdout",
     "output_type": "stream",
     "text": [
      "0\n"
     ]
    }
   ],
   "source": [
    "N=int(input())\n",
    "if(N%4==1):\n",
    "    print(1)\n",
    "if(N%4==2):\n",
    "    print(N+1)\n",
    "if(N%4==3):\n",
    "    print(0)\n",
    "if(N%4==0):\n",
    "    print(N)"
   ]
  },
  {
   "cell_type": "code",
   "execution_count": null,
   "id": "c4905b73-d654-4892-adac-50d6b49eef2c",
   "metadata": {},
   "outputs": [],
   "source": [
    "n=int(input())\n",
    "n=int(input())\n",
    "X=0\n",
    "for i in r4ange (1,n+1):\n",
    "    X=X^i\n",
    "print(X)"
   ]
  },
  {
   "cell_type": "markdown",
   "id": "a6550445-f1b1-417e-8c79-05f7e90cb8e7",
   "metadata": {},
   "source": [
    "n=int(input())\n",
    "availableOfficers = 0\n",
    "untreatedCrimes = 0\n",
    "\n",
    "for _ in range(n):\n",
    "    event=int(input())\n",
    "    if event== -1:\n",
    "        if availableOfficers > 0:\n",
    "            availableOfficers -= 1\n",
    "        else:\n",
    "            untreatedCrimes += 1\n",
    "    else:\n",
    "        availableOfficers += event\n",
    "print(untreatedCrimes)\n"
   ]
  },
  {
   "cell_type": "code",
   "execution_count": null,
   "id": "9b177ceb-e16b-41e8-a981-d3224427d392",
   "metadata": {},
   "outputs": [],
   "source": []
  }
 ],
 "metadata": {
  "kernelspec": {
   "display_name": "anaconda-2024.02-py310",
   "language": "python",
   "name": "conda-env-anaconda-2024.02-py310-py"
  },
  "language_info": {
   "codemirror_mode": {
    "name": "ipython",
    "version": 3
   },
   "file_extension": ".py",
   "mimetype": "text/x-python",
   "name": "python",
   "nbconvert_exporter": "python",
   "pygments_lexer": "ipython3",
   "version": "3.10.14"
  }
 },
 "nbformat": 4,
 "nbformat_minor": 5
}

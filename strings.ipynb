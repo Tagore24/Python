{
 "cells": [
  {
   "cell_type": "code",
   "execution_count": 2,
   "id": "7cbe803d-a300-455f-a3ee-ea2b2289a4cd",
   "metadata": {},
   "outputs": [
    {
     "name": "stdout",
     "output_type": "stream",
     "text": [
      "('Munny ', 'is', ' my nickname')\n"
     ]
    }
   ],
   "source": [
    "str=\"Munny is my nickname\"\n",
    "print(str.partition(\"is\"))"
   ]
  },
  {
   "cell_type": "code",
   "execution_count": 3,
   "id": "d987b6de-df7f-4e43-8d50-102b1fb174f6",
   "metadata": {},
   "outputs": [
    {
     "name": "stdout",
     "output_type": "stream",
     "text": [
      "['hi', 'this', 'is munny']\n"
     ]
    }
   ],
   "source": [
    "str1=\"\"\"hi\n",
    "this\n",
    "is munny\"\"\"\n",
    "print(str1.splitlines())"
   ]
  },
  {
   "cell_type": "code",
   "execution_count": null,
   "id": "89876191-3540-41ef-a233-d9c6ad27e012",
   "metadata": {},
   "outputs": [],
   "source": [
    "str=\"munnny\"\n",
    "print(str.index('n'))\n",
    "print(str.rindex(\"n\"))\n",
    "\n",
    "print('python programming'.capitalize())\n",
    "print('python cython'.find('th'))\n",
    "print('python cython'.rfind('th'))\n",
    "print('python cython'.count('th'))\n",
    "\n"
   ]
  },
  {
   "cell_type": "code",
   "execution_count": 6,
   "id": "ac2fab8e-0e50-4039-8a99-45834ff8a078",
   "metadata": {},
   "outputs": [
    {
     "name": "stdout",
     "output_type": "stream",
     "text": [
      "Munny\n",
      "nny\n",
      "Munny\n",
      "nny\n",
      "un\n",
      "ynnuM\n"
     ]
    }
   ],
   "source": [
    "S= 'Munny'\n",
    "print(S[:])\n",
    "print(S[2:])\n",
    "print(S[:5])\n",
    "print(S[2:6])\n",
    "print(S[-4:-2])\n",
    "print(S[::-1])"
   ]
  },
  {
   "cell_type": "code",
   "execution_count": 7,
   "id": "95dd05c3-1d24-4288-804b-1b2644a5c8d0",
   "metadata": {},
   "outputs": [
    {
     "name": "stdout",
     "output_type": "stream",
     "text": [
      "14\n"
     ]
    }
   ],
   "source": [
    "a=(\"python program\")\n",
    "print(len(a))"
   ]
  },
  {
   "cell_type": "code",
   "execution_count": null,
   "id": "8015dc34-418b-492f-9afd-067b805e410a",
   "metadata": {},
   "outputs": [],
   "source": [
    "def len(str):\n",
    "    count=0\n",
    "    for char in str:\n",
    "        count+=1\n",
    "    return count\n",
    "str=input()\n",
    "print(len(str))"
   ]
  },
  {
   "cell_type": "code",
   "execution_count": null,
   "id": "72002980-b8e7-4e49-997b-446ea6c68306",
   "metadata": {},
   "outputs": [],
   "source": [
    "str=input()\n",
    "print(\"Your input in upper case\",str.upper())\n",
    "print(\"Your input in lower case\",str.lower())"
   ]
  },
  {
   "cell_type": "code",
   "execution_count": null,
   "id": "81d93df5-4100-4075-a614-3882360c9b6d",
   "metadata": {},
   "outputs": [],
   "source": [
    "s1=\"My car is BmW\"\n",
    "s2=\"BmW\"\n",
    "s3=s1.replace(s2,s2.upper())\n",
    "print(s3)"
   ]
  },
  {
   "cell_type": "code",
   "execution_count": null,
   "id": "84001086-8bbc-47e5-9a2e-45f9d4af16d0",
   "metadata": {},
   "outputs": [],
   "source": [
    "def swap(str1):\n",
    "    res= \"\"\n",
    "    for i in str1:\n",
    "        if i.isupper():\n",
    "            res+=i.lower()\n",
    "        else:\n",
    "            res+=i.upper()\n",
    "    return res\n",
    "str1=input()\n",
    "print(swap(str1))"
   ]
  },
  {
   "cell_type": "code",
   "execution_count": null,
   "id": "a369cc10-2561-4077-95eb-a107ebda01f9",
   "metadata": {},
   "outputs": [],
   "source": [
    "str=input()\n",
    "result=str[0]\n",
    "for i in range(1,len(str)):\n",
    "    if str[i]!=result[-1]:\n",
    "        result+=str[i]\n",
    "print(result)"
   ]
  },
  {
   "cell_type": "code",
   "execution_count": null,
   "id": "308bb577-d4ad-40da-a2ed-6ad2eeef0cca",
   "metadata": {},
   "outputs": [],
   "source": [
    "s=input()\n",
    "spaces=\"\"\n",
    "result=\"\"\n",
    "for char in s:\n",
    "    if char ==\" \":\n",
    "        spaces+=char\n",
    "    else:\n",
    "        result+=char\n",
    "final_string=spaces+result\n",
    "print(final_string)\n",
    "    "
   ]
  },
  {
   "cell_type": "code",
   "execution_count": null,
   "id": "24ac8a1d-e9c8-4b88-9ecf-30b1865d4ef2",
   "metadata": {},
   "outputs": [],
   "source": [
    "s1=input()\n",
    "s2=input()\n",
    "uncommon_chars=\"\".join(set(s1)^set(s2))\n",
    "print(uncommon_chars)\n"
   ]
  },
  {
   "cell_type": "code",
   "execution_count": null,
   "id": "929e323c-310b-4f08-9db1-f6d1c779effd",
   "metadata": {},
   "outputs": [],
   "source": [
    "s=input()\n",
    "max_char=max(s,key=s.count)\n",
    "print(f\"Maximum occuring character:{max_char}\")"
   ]
  },
  {
   "cell_type": "code",
   "execution_count": null,
   "id": "f5bf13d1-0569-4d43-9ae7-243816471583",
   "metadata": {},
   "outputs": [],
   "source": [
    "def fun():\n",
    "    print(\"welcome\")\n",
    "fun()"
   ]
  },
  {
   "cell_type": "code",
   "execution_count": null,
   "id": "c8bfcdf4-d311-40fb-9fc8-06c6245a059e",
   "metadata": {},
   "outputs": [],
   "source": [
    "def add(num1: int,num2:int)->int:\n",
    "    num3=num1+num2\n",
    "    return num3\n",
    "num1,num2=5,15\n",
    "ans=add(num1,num2)\n",
    "print(f\"the addition of {num1}and {num2} result {ans}.\")"
   ]
  },
  {
   "cell_type": "code",
   "execution_count": null,
   "id": "71ef4a64-0470-44aa-a1d3-d2229068c8bf",
   "metadata": {},
   "outputs": [],
   "source": [
    "def myFun(x,y=50):\n",
    "    print(\"x:\",x)\n",
    "    print(\"y:\",y)\n",
    "myFun(10)"
   ]
  },
  {
   "cell_type": "code",
   "execution_count": null,
   "id": "93663f95-6dc5-4e90-b597-a8a247233d74",
   "metadata": {},
   "outputs": [],
   "source": [
    "def nameAge(name,Age):\n",
    "    print(\"Hi,I am\",name)\n",
    "    print(\"My age is\",Age)\n",
    "print(\"case-1:\")\n",
    "nameAge(\"Munny\",20)\n"
   ]
  },
  {
   "cell_type": "code",
   "execution_count": null,
   "id": "5ab6f176-5cfa-4259-b969-fce4f78698c7",
   "metadata": {},
   "outputs": [],
   "source": [
    "def my_sum(my_integers):\n",
    "    result=0\n",
    "    for x in my_integers:\n",
    "        result+=x\n",
    "    return result\n",
    "lon=[1,2,3]\n",
    "print(my_sum(lon))"
   ]
  },
  {
   "cell_type": "code",
   "execution_count": null,
   "id": "8c525bfa-6ce8-4eb7-998b-2202edfee44e",
   "metadata": {},
   "outputs": [],
   "source": [
    "def my_sum(*args):\n",
    "    result=0\n",
    "    for x in args:\n",
    "        result+=x\n",
    "    return result\n",
    "print(my_sum(1,30,50))"
   ]
  },
  {
   "cell_type": "code",
   "execution_count": null,
   "id": "1c428924-9f97-4962-8d29-ef3c0630e9cf",
   "metadata": {},
   "outputs": [],
   "source": [
    "def my_sum(*integers):\n",
    "    result=0\n",
    "    for x in integers:\n",
    "        result+=x\n",
    "    return result\n",
    "print(my_sum(10,10,5))"
   ]
  },
  {
   "cell_type": "code",
   "execution_count": null,
   "id": "82ddbf20-1244-4ff7-9632-75a1775e96c4",
   "metadata": {},
   "outputs": [],
   "source": [
    "def concatenate(**words):\n",
    "    result=\"\"\n",
    "    for arg in words.values():\n",
    "        result+=arg\n",
    "    return result\n",
    "print(concatenate(a=\"Simmu Anna L05\",b=\" y \",c=\" cutest \", d=\" Gurl \",e=\"!\"))"
   ]
  },
  {
   "cell_type": "code",
   "execution_count": null,
   "id": "0a92cb50-c3a7-4e0d-85c0-8efb84fec945",
   "metadata": {},
   "outputs": [],
   "source": [
    "def recursive_factorial(n):\n",
    "    if n==1:\n",
    "        return\n",
    "    else:\n",
    "        return n * recursive_factorial(n-1)\n",
    "num=6\n",
    "if num<0:\n",
    "    print(\"Invalid input ! plese enter a positive number.\")\n",
    "elif num == 0:\n",
    "    print(\"Factorial of numbers 0 is 1\")\n",
    "else:\n",
    "     print(\"Factorial of numbers\",num,\"=\",recursive_factorial(num))\n",
    "    "
   ]
  },
  {
   "cell_type": "code",
   "execution_count": null,
   "id": "647a3762-2b27-496e-bafa-1998793de28a",
   "metadata": {},
   "outputs": [],
   "source": []
  }
 ],
 "metadata": {
  "kernelspec": {
   "display_name": "anaconda-2024.02-py310",
   "language": "python",
   "name": "conda-env-anaconda-2024.02-py310-py"
  },
  "language_info": {
   "codemirror_mode": {
    "name": "ipython",
    "version": 3
   },
   "file_extension": ".py",
   "mimetype": "text/x-python",
   "name": "python",
   "nbconvert_exporter": "python",
   "pygments_lexer": "ipython3",
   "version": "3.10.14"
  }
 },
 "nbformat": 4,
 "nbformat_minor": 5
}

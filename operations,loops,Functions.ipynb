{
 "cells": [
  {
   "cell_type": "code",
   "execution_count": 1,
   "id": "1caff5b2-952b-4180-a067-2e44c743212d",
   "metadata": {},
   "outputs": [
    {
     "data": {
      "text/plain": [
       "7"
      ]
     },
     "execution_count": 1,
     "metadata": {},
     "output_type": "execute_result"
    }
   ],
   "source": [
    "5+2\n"
   ]
  },
  {
   "cell_type": "code",
   "execution_count": 5,
   "id": "bd785688-1afd-4cf4-9f66-47b8475f15a8",
   "metadata": {},
   "outputs": [
    {
     "data": {
      "text/plain": [
       "8.666666666666666"
      ]
     },
     "execution_count": 5,
     "metadata": {},
     "output_type": "execute_result"
    }
   ],
   "source": [
    "(10+2)-5/3*2"
   ]
  },
  {
   "cell_type": "code",
   "execution_count": 11,
   "id": "a1229f73-70d4-4bd5-9682-a6479fb58c62",
   "metadata": {},
   "outputs": [],
   "source": [
    "a=(2)+(4-8)/5 "
   ]
  },
  {
   "cell_type": "code",
   "execution_count": 14,
   "id": "ace6f098-457a-4f3a-82dd-beecbbc8c0ca",
   "metadata": {},
   "outputs": [
    {
     "name": "stdout",
     "output_type": "stream",
     "text": [
      "1.2\n"
     ]
    }
   ],
   "source": [
    "print(a)"
   ]
  },
  {
   "cell_type": "code",
   "execution_count": 32,
   "id": "5c2f9a0c-68b3-4b4d-8d77-0e19458e86ce",
   "metadata": {},
   "outputs": [
    {
     "name": "stdout",
     "output_type": "stream",
     "text": [
      "9.034353193773484\n"
     ]
    }
   ],
   "source": [
    "a=9/3+6\n",
    "b=95*2+6/3\n",
    "c=81*69\n",
    "print(a+b/c)"
   ]
  },
  {
   "cell_type": "code",
   "execution_count": 36,
   "id": "62556a99-d21f-4478-a1c1-5079f86cf6f3",
   "metadata": {},
   "outputs": [
    {
     "name": "stdout",
     "output_type": "stream",
     "text": [
      "hello world\n"
     ]
    }
   ],
   "source": [
    "a=\"hello world\"\n",
    "print(a)"
   ]
  },
  {
   "cell_type": "code",
   "execution_count": 38,
   "id": "54deb5f3-c88e-4269-ae81-8d417d8d54a1",
   "metadata": {},
   "outputs": [
    {
     "data": {
      "text/plain": [
       "' distance between clg nd home is 15KM. \\ni go to the clg weekly 5days.car milage 10KMPL.Petrol cost 100/-'"
      ]
     },
     "execution_count": 38,
     "metadata": {},
     "output_type": "execute_result"
    }
   ],
   "source": [
    "\"\"\" distance between clg nd home is 15KM. \n",
    "i go to the clg weekly 5days.car milage 10KMPL.Petrol cost 100/-\"\"\"\n",
    "\n"
   ]
  },
  {
   "cell_type": "code",
   "execution_count": 40,
   "id": "68be5b34-a41a-49ff-a948-1164c886e2ee",
   "metadata": {},
   "outputs": [
    {
     "name": "stdout",
     "output_type": "stream",
     "text": [
      "30\n",
      "150\n",
      "15.0\n",
      "1500.0\n"
     ]
    }
   ],
   "source": [
    "dist=15*2\n",
    "week=5*dist\n",
    "milg=week/10\n",
    "cp=milg*100\n",
    "print(dist)\n",
    "print(week)\n",
    "print(milg)\n",
    "print(cp)\n",
    "\n",
    "\n",
    "\n",
    "\n"
   ]
  },
  {
   "cell_type": "code",
   "execution_count": 84,
   "id": "81730192-30d3-4e95-b87f-c11ee66c2f7f",
   "metadata": {},
   "outputs": [
    {
     "name": "stdout",
     "output_type": "stream",
     "text": [
      "Radhika is cutest\n",
      "Munny has beautiful eyes\n"
     ]
    }
   ],
   "source": [
    "#c=\"Radhika is cutest\"\n",
    "A=\"Munny has beautiful eyes\"\n",
    "print(c+\"\\n\"+A)\n"
   ]
  },
  {
   "cell_type": "code",
   "execution_count": 74,
   "id": "07377b13-1994-4438-9937-77dddac43ea2",
   "metadata": {},
   "outputs": [
    {
     "name": "stdin",
     "output_type": "stream",
     "text": [
      "what do you want tea\n"
     ]
    },
    {
     "name": "stdout",
     "output_type": "stream",
     "text": [
      "i want  tea\n"
     ]
    }
   ],
   "source": [
    "a=input(\"what do you want\")\n",
    "print(\"i want \",a)\n"
   ]
  },
  {
   "cell_type": "code",
   "execution_count": 4,
   "id": "b11abcc3-73c2-4541-922d-b71083665430",
   "metadata": {},
   "outputs": [
    {
     "name": "stdin",
     "output_type": "stream",
     "text": [
      " munny is  gud gurl\n"
     ]
    },
    {
     "name": "stdout",
     "output_type": "stream",
     "text": [
      "what do you want gud gurl\n"
     ]
    }
   ],
   "source": [
    "x=\"what do you want\"\n",
    "y=input(\" munny is \")\n",
    "print(x,y)\n"
   ]
  },
  {
   "cell_type": "code",
   "execution_count": 83,
   "id": "39cd0b2e-b75b-477f-9cdb-ae05841ec75a",
   "metadata": {},
   "outputs": [
    {
     "name": "stdout",
     "output_type": "stream",
     "text": [
      "2.66667\n"
     ]
    }
   ],
   "source": [
    "x=8/3\n",
    "print(f\"{x:.5f}\")\n"
   ]
  },
  {
   "cell_type": "code",
   "execution_count": 61,
   "id": "a00771c4-8c24-440b-bb10-a648d927d36f",
   "metadata": {},
   "outputs": [
    {
     "data": {
      "text/plain": [
       "1"
      ]
     },
     "execution_count": 61,
     "metadata": {},
     "output_type": "execute_result"
    }
   ],
   "source": [
    "7%3\n"
   ]
  },
  {
   "cell_type": "code",
   "execution_count": 63,
   "id": "39d80fb5-8a2e-4620-bd56-343aac5526a8",
   "metadata": {},
   "outputs": [
    {
     "data": {
      "text/plain": [
       "False"
      ]
     },
     "execution_count": 63,
     "metadata": {},
     "output_type": "execute_result"
    }
   ],
   "source": [
    "x=3\n",
    "y=11\n",
    "x>y\n"
   ]
  },
  {
   "cell_type": "code",
   "execution_count": 85,
   "id": "d49a63d5-8555-42fd-8871-85fe8a944187",
   "metadata": {},
   "outputs": [
    {
     "data": {
      "text/plain": [
       "0"
      ]
     },
     "execution_count": 85,
     "metadata": {},
     "output_type": "execute_result"
    }
   ],
   "source": [
    "r=10\n",
    "v=3\n",
    "a=6\n",
    "a>>v\n"
   ]
  },
  {
   "cell_type": "code",
   "execution_count": 88,
   "id": "9adbf419-4378-4449-a29e-a9e7778531d7",
   "metadata": {},
   "outputs": [
    {
     "name": "stdin",
     "output_type": "stream",
     "text": [
      "what is the distance between your clg and home = 15\n",
      "How many days you go to clg in a week.. 5\n",
      " Ne car milege entha?? 10\n",
      "price of fuel per litre : 100\n"
     ]
    },
    {
     "name": "stdout",
     "output_type": "stream",
     "text": [
      "1500.0\n"
     ]
    }
   ],
   "source": [
    "distance=int(input(\"what is the distance between your clg and home =\"))\n",
    "RoundTrip=distance *2\n",
    "dayz=int(input(\"How many days you go to clg in a week..\"))\n",
    "WeekDist=RoundTrip* dayz\n",
    "mil=int(input(\" Ne car milege entha??\"))\n",
    "FuelUsed=WeekDist/mil\n",
    "price=int(input(\"price of fuel per litre :\"))\n",
    "TotalCost=FuelUsed*price\n",
    "print(TotalCost)"
   ]
  },
  {
   "cell_type": "code",
   "execution_count": 100,
   "id": "7f95bc7b-0c4d-4653-ae6a-a801c7677393",
   "metadata": {},
   "outputs": [
    {
     "name": "stdout",
     "output_type": "stream",
     "text": [
      "5\n"
     ]
    }
   ],
   "source": [
    "x=[1,3,5,7]\n",
    "z=[7,3,8,9]\n",
    "print(x[2])"
   ]
  },
  {
   "cell_type": "code",
   "execution_count": 116,
   "id": "570484a9-c1e0-46f0-9b77-4ce15ffc89b8",
   "metadata": {},
   "outputs": [
    {
     "name": "stdout",
     "output_type": "stream",
     "text": [
      "[9, 8, 3, 7]\n"
     ]
    }
   ],
   "source": [
    "z=[7,3,8,9]\n",
    "print(z[::-1])"
   ]
  },
  {
   "cell_type": "code",
   "execution_count": 110,
   "id": "ce9adb07-d30b-4941-85ad-644a494705ed",
   "metadata": {},
   "outputs": [
    {
     "data": {
      "text/plain": [
       "list"
      ]
     },
     "execution_count": 110,
     "metadata": {},
     "output_type": "execute_result"
    }
   ],
   "source": [
    "type(z)"
   ]
  },
  {
   "cell_type": "code",
   "execution_count": 122,
   "id": "a24c5ff8-610e-43fb-9214-b7d1f25ed3a0",
   "metadata": {},
   "outputs": [
    {
     "name": "stdout",
     "output_type": "stream",
     "text": [
      "[1, 3, 7]\n"
     ]
    }
   ],
   "source": [
    "x=[1,3,5,7]\n",
    "m=x.pop(2)\n",
    "print(x)\n",
    "\n"
   ]
  },
  {
   "cell_type": "code",
   "execution_count": 130,
   "id": "3e8c55ca-1eba-4848-853a-480b4ff3ecda",
   "metadata": {},
   "outputs": [
    {
     "name": "stdout",
     "output_type": "stream",
     "text": [
      "[1, 2, 3, 4]\n"
     ]
    }
   ],
   "source": [
    "x=[1,2,3,4]\n",
    "g=x.index(2)\n",
    "print(x)"
   ]
  },
  {
   "cell_type": "code",
   "execution_count": null,
   "id": "87d94230-716f-4b9d-af97-edd77d79c410",
   "metadata": {},
   "outputs": [],
   "source": [
    "\n",
    "            \n",
    "            "
   ]
  },
  {
   "cell_type": "code",
   "execution_count": 39,
   "id": "e4b55f5d-9687-4bc0-8d10-754470d49f85",
   "metadata": {},
   "outputs": [
    {
     "name": "stdin",
     "output_type": "stream",
     "text": [
      "enter a number 12\n"
     ]
    },
    {
     "name": "stdout",
     "output_type": "stream",
     "text": [
      " is prime\n"
     ]
    }
   ],
   "source": [
    "num=int(input(\"enter a number\"))\n",
    "for i in range(2,int(num)+1):\n",
    "    if (num%i==0):\n",
    "         print( \" is prime\")\n",
    "         break\n",
    "    else:\n",
    "        print(\" is not prime\")\n",
    "        break\n",
    "\n",
    "      "
   ]
  },
  {
   "cell_type": "code",
   "execution_count": 59,
   "id": "241471f3-bbaa-468f-b0e6-d063d9ab958e",
   "metadata": {},
   "outputs": [
    {
     "name": "stdin",
     "output_type": "stream",
     "text": [
      "Enter the wt of watermelon 6\n"
     ]
    },
    {
     "name": "stdout",
     "output_type": "stream",
     "text": [
      "NO\n",
      "NO\n",
      "NO\n",
      "2.0 2.0\n"
     ]
    }
   ],
   "source": [
    "a=int(input(\"Enter the wt of watermelon\"))\n",
    "for a in range(1,101):\n",
    "    if (a % 2 != 0 or a ==2) :\n",
    "      print(\"NO\")\n",
    "      \n",
    "    else :\n",
    "      x= a/2\n",
    "      if (x % 2 == 0):\n",
    "          print(x,x)\n",
    "          break\n",
    "      else :\n",
    "          print( x-1,x+1)\n",
    "          break"
   ]
  },
  {
   "cell_type": "code",
   "execution_count": 79,
   "id": "872ffc5f-b990-4857-a01c-86cfbee9b17b",
   "metadata": {},
   "outputs": [
    {
     "name": "stdin",
     "output_type": "stream",
     "text": [
      " 13\n"
     ]
    },
    {
     "name": "stdout",
     "output_type": "stream",
     "text": [
      "3\n"
     ]
    }
   ],
   "source": [
    "x=int(input())\n",
    "y=x//5\n",
    "if (x%5!=0):\n",
    "    print(y+1)\n",
    "else:\n",
    "    print(y)\n",
    "    "
   ]
  },
  {
   "cell_type": "code",
   "execution_count": 131,
   "id": "bb788c3d-7c43-407e-b8bb-7cf5fe06f3e5",
   "metadata": {},
   "outputs": [
    {
     "name": "stdout",
     "output_type": "stream",
     "text": [
      "60 found in BST\n",
      "60 found in BST\n"
     ]
    }
   ],
   "source": [
    "key=60\n",
    "print(f\"{key} found in BST\")\n",
    "print(key,\"found in BST\")\n"
   ]
  },
  {
   "cell_type": "code",
   "execution_count": 114,
   "id": "f341157a-2b93-45b6-ac53-69fd3402394e",
   "metadata": {},
   "outputs": [
    {
     "name": "stdin",
     "output_type": "stream",
     "text": [
      "enter the element 5.55\n"
     ]
    },
    {
     "name": "stdout",
     "output_type": "stream",
     "text": [
      "6\n"
     ]
    }
   ],
   "source": [
    "n=float(input(\"enter the element\"))\n",
    "print(round(n,))"
   ]
  },
  {
   "cell_type": "code",
   "execution_count": 9,
   "id": "328f0673-3971-4251-8190-38c74c843410",
   "metadata": {},
   "outputs": [
    {
     "name": "stdin",
     "output_type": "stream",
     "text": [
      " 4\n"
     ]
    },
    {
     "name": "stdout",
     "output_type": "stream",
     "text": [
      "10\n"
     ]
    }
   ],
   "source": [
    "num =int(input())\n",
    "a=0\n",
    "for i in range(num+1):\n",
    "    a+=i\n",
    "print(a)\n",
    "       "
   ]
  },
  {
   "cell_type": "code",
   "execution_count": 13,
   "id": "52bece9d-c018-4f90-9436-e25804ae97fc",
   "metadata": {},
   "outputs": [
    {
     "name": "stdout",
     "output_type": "stream",
     "text": [
      "30\n"
     ]
    }
   ],
   "source": [
    "a=10\n",
    "b=3\n",
    "print(a*b)\n",
    "    \n"
   ]
  },
  {
   "cell_type": "code",
   "execution_count": 21,
   "id": "b7e35415-5103-41b5-80d4-71b70f11ad45",
   "metadata": {},
   "outputs": [
    {
     "name": "stdin",
     "output_type": "stream",
     "text": [
      "enter the number 5\n"
     ]
    },
    {
     "name": "stdout",
     "output_type": "stream",
     "text": [
      "5 *1= 5\n",
      "5 *1= 10\n",
      "5 *1= 15\n",
      "5 *1= 20\n",
      "5 *1= 25\n",
      "5 *1= 30\n",
      "5 *1= 35\n",
      "5 *1= 40\n",
      "5 *1= 45\n",
      "5 *1= 50\n"
     ]
    }
   ],
   "source": [
    "a=int(input(\"enter the number\"))\n",
    "print(a,\"*1=\",a*1)\n",
    "print(a,\"*1=\",a*2)\n",
    "print(a,\"*1=\",a*3)\n",
    "print(a,\"*1=\",a*4)\n",
    "print(a,\"*1=\",a*5)\n",
    "print(a,\"*1=\",a*6)\n",
    "print(a,\"*1=\",a*7)\n",
    "print(a,\"*1=\",a*8)\n",
    "print(a,\"*1=\",a*9)\n",
    "print(a,\"*1=\",a*10)\n",
    "      "
   ]
  },
  {
   "cell_type": "code",
   "execution_count": 41,
   "id": "f1f86d29-5552-4c2b-80fd-090079121247",
   "metadata": {},
   "outputs": [
    {
     "name": "stdin",
     "output_type": "stream",
     "text": [
      " 4\n"
     ]
    },
    {
     "name": "stdout",
     "output_type": "stream",
     "text": [
      "4\n",
      "3\n",
      "2\n",
      "1\n"
     ]
    }
   ],
   "source": [
    "a=int(input())\n",
    "while(a>0):\n",
    "    print(a)\n",
    "    a=a-1\n"
   ]
  },
  {
   "cell_type": "code",
   "execution_count": 53,
   "id": "03f85e10-bb1e-49bb-af21-2b5b413c3f0f",
   "metadata": {},
   "outputs": [
    {
     "name": "stdin",
     "output_type": "stream",
     "text": [
      " 5\n"
     ]
    },
    {
     "name": "stdout",
     "output_type": "stream",
     "text": [
      "120\n"
     ]
    }
   ],
   "source": [
    "num=int(input())\n",
    "count=1\n",
    "i=1\n",
    "while(i<=num):\n",
    "    count=count*i\n",
    "    i=i+1\n",
    "print(count)"
   ]
  },
  {
   "cell_type": "code",
   "execution_count": 57,
   "id": "3bd49436-bb40-4393-a92f-9f273c15c217",
   "metadata": {},
   "outputs": [
    {
     "name": "stdin",
     "output_type": "stream",
     "text": [
      "enter the number of terms: 5\n"
     ]
    },
    {
     "name": "stdout",
     "output_type": "stream",
     "text": [
      "0 1 1 2 3 "
     ]
    }
   ],
   "source": [
    "n=int(input(\"enter the number of terms:\"))\n",
    "a,b =0,1\n",
    "for i in range(n):\n",
    "    print(a, end=\" \")\n",
    "    a,b = b, a + b"
   ]
  },
  {
   "cell_type": "code",
   "execution_count": 59,
   "id": "e4597d92-6fc3-40fb-b503-9c41a1e88232",
   "metadata": {},
   "outputs": [
    {
     "name": "stdin",
     "output_type": "stream",
     "text": [
      "enter a number:  543\n"
     ]
    },
    {
     "name": "stdout",
     "output_type": "stream",
     "text": [
      "reversed number: 345\n"
     ]
    }
   ],
   "source": [
    "num = int(input(\"enter a number: \"))\n",
    "rev = 0\n",
    "while num > 0:\n",
    "    digit = num % 10\n",
    "    rev = rev * 10 + digit\n",
    "    num = num // 10\n",
    "    \n",
    "print(\"reversed number:\",rev)\n"
   ]
  },
  {
   "cell_type": "code",
   "execution_count": 65,
   "id": "7139aa7d-17fc-4eda-8474-f4692822bc99",
   "metadata": {},
   "outputs": [
    {
     "name": "stdout",
     "output_type": "stream",
     "text": [
      "2\n"
     ]
    }
   ],
   "source": [
    "limak_weight, bob_weight, years = 4, 7, 0\n",
    "while limak_weight <= bob_weight:\n",
    "    limak_weight *= 3\n",
    "    bob_weight *= 2\n",
    "    years += 1\n",
    "print(years)"
   ]
  },
  {
   "cell_type": "code",
   "execution_count": 10,
   "id": "129cfd61-1c8b-4c71-89fd-eb27a0593de4",
   "metadata": {},
   "outputs": [
    {
     "name": "stdout",
     "output_type": "stream",
     "text": [
      "[1, 2, 3]\n"
     ]
    }
   ],
   "source": [
    "L = list(map(int,\"123\"))\n",
    "print(L)"
   ]
  },
  {
   "cell_type": "code",
   "execution_count": 16,
   "id": "d2be9774-efd5-4b93-99d5-d59e6df63116",
   "metadata": {},
   "outputs": [
    {
     "name": "stdout",
     "output_type": "stream",
     "text": [
      "[61, 94]\n"
     ]
    }
   ],
   "source": [
    "l = [65,61,94]\n",
    "del l[0]\n",
    "print(l)"
   ]
  },
  {
   "cell_type": "code",
   "execution_count": 20,
   "id": "f42bd103-c0dd-4dac-ad58-2b27b3adb6a8",
   "metadata": {},
   "outputs": [
    {
     "name": "stdout",
     "output_type": "stream",
     "text": [
      "[6, 7, 8, 9, 10]\n"
     ]
    }
   ],
   "source": [
    "l =[6,7,8,9]\n",
    "l.append(10)\n",
    "print(l)"
   ]
  },
  {
   "cell_type": "code",
   "execution_count": 28,
   "id": "dbb29e2b-41df-483b-94a2-07718b310f1a",
   "metadata": {},
   "outputs": [
    {
     "name": "stdout",
     "output_type": "stream",
     "text": [
      "[6, 7, 8]\n"
     ]
    }
   ],
   "source": [
    "l =[6,7,8,9]\n",
    "del l[3]\n",
    "print(l)"
   ]
  },
  {
   "cell_type": "code",
   "execution_count": 32,
   "id": "2f9c81ab-8766-4fde-a5f8-2f48e41ed749",
   "metadata": {},
   "outputs": [
    {
     "name": "stdout",
     "output_type": "stream",
     "text": [
      "[23, 34, 5, 75, 235, 6453, 1, 25, 4, 43, 123, 54, 214, 643, 1234, 352, 1352, 235, 532]\n"
     ]
    }
   ],
   "source": [
    "m=[23,34,5,75,235,6453,1,25,4,43,123,54,214,643,1234,352,1352,235,532,32]\n",
    "del m[-1]\n",
    "print(m)"
   ]
  },
  {
   "cell_type": "code",
   "execution_count": 34,
   "id": "4b485daf-26bd-46c6-aacf-bd40dce29a10",
   "metadata": {},
   "outputs": [
    {
     "name": "stdout",
     "output_type": "stream",
     "text": [
      "[23, 34, 5, 75, 235, 6453, 1, 25, 4, 43, 123, 54, 214, 643, 1234, 352, 235, 532]\n"
     ]
    }
   ],
   "source": [
    "del m[-3]\n",
    "print(m)"
   ]
  },
  {
   "cell_type": "code",
   "execution_count": null,
   "id": "c27fcd76-2628-4efa-9a2d-e530a252fede",
   "metadata": {},
   "outputs": [],
   "source": []
  },
  {
   "cell_type": "code",
   "execution_count": null,
   "id": "1c125db8-f8e6-463e-9891-57720162e970",
   "metadata": {},
   "outputs": [],
   "source": []
  }
 ],
 "metadata": {
  "kernelspec": {
   "display_name": "anaconda-panel-2023.05-py310",
   "language": "python",
   "name": "conda-env-anaconda-panel-2023.05-py310-py"
  },
  "language_info": {
   "codemirror_mode": {
    "name": "ipython",
    "version": 3
   },
   "file_extension": ".py",
   "mimetype": "text/x-python",
   "name": "python",
   "nbconvert_exporter": "python",
   "pygments_lexer": "ipython3",
   "version": "3.11.5"
  }
 },
 "nbformat": 4,
 "nbformat_minor": 5
}

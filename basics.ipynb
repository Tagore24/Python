{
 "cells": [
  {
   "cell_type": "code",
   "execution_count": 23,
   "id": "710ad6b2-6a30-46c1-9642-896e62a1b2de",
   "metadata": {},
   "outputs": [
    {
     "name": "stdout",
     "output_type": "stream",
     "text": [
      "[1, 2, 3, 4, 2]\n",
      "[3, 2, 3, 4, 2]\n",
      "[3, 4, 3, 4, 2]\n",
      "3 4 3 4 "
     ]
    }
   ],
   "source": [
    "L=[1,2,3,4,5]\n",
    "for i in range (1,4):\n",
    "    L[i-2]=L[i]\n",
    "    print(L)\n",
    "for i in range (0,4):\n",
    "    print(L[i],end=\" \")\n"
   ]
  },
  {
   "cell_type": "code",
   "execution_count": 29,
   "id": "4b9bc354-981c-4a8b-aabe-ef2654dca874",
   "metadata": {},
   "outputs": [
    {
     "name": "stdout",
     "output_type": "stream",
     "text": [
      "[4, 2, 3]\n"
     ]
    }
   ],
   "source": [
    "L=[1,2,3]\n",
    "#L[0]=4\n",
    "L1 = L\n",
    "L[0]=4\n",
    "print(L1)"
   ]
  },
  {
   "cell_type": "code",
   "execution_count": 149,
   "id": "48a94847-849e-42c2-b524-3c43f3e79928",
   "metadata": {},
   "outputs": [
    {
     "name": "stdout",
     "output_type": "stream",
     "text": [
      "niknfaf\n"
     ]
    }
   ],
   "source": [
    "L='niknfaf'\n",
    "#L[0]=4\n",
    "L1 = L\n",
    "L='gefw'\n",
    "print(L1)"
   ]
  },
  {
   "cell_type": "code",
   "execution_count": 153,
   "id": "d2b792db-2b07-4ec6-a9c5-3759d67b4302",
   "metadata": {},
   "outputs": [
    {
     "name": "stdout",
     "output_type": "stream",
     "text": [
      "[2, 10, 5, 8]\n"
     ]
    }
   ],
   "source": [
    "L = [2,5,8]\n",
    "L.insert(1,10)\n",
    "print(L)"
   ]
  },
  {
   "cell_type": "code",
   "execution_count": 41,
   "id": "b4bd785c-6cd8-43a0-ac1c-07e66521328f",
   "metadata": {},
   "outputs": [
    {
     "name": "stdout",
     "output_type": "stream",
     "text": [
      "[4, 6, 8, 10, 12, 'tea', 'coffee']\n"
     ]
    }
   ],
   "source": [
    "L =  [4,6,8,10,12]\n",
    "L.extend([\"tea\", \"coffee\"])\n",
    "print(L)"
   ]
  },
  {
   "cell_type": "code",
   "execution_count": 44,
   "id": "11a5acfb-0e53-4850-aa79-c71e882838a7",
   "metadata": {},
   "outputs": [
    {
     "name": "stdout",
     "output_type": "stream",
     "text": [
      "[15, 7, 5, 8]\n"
     ]
    }
   ],
   "source": [
    "L = [15,7,5,8]\n",
    "L1=L.copy()\n",
    "print(L1)"
   ]
  },
  {
   "cell_type": "code",
   "execution_count": 50,
   "id": "2403d5d5-4ea9-4bd1-ba40-4ca753f1af0c",
   "metadata": {},
   "outputs": [
    {
     "name": "stdout",
     "output_type": "stream",
     "text": [
      "3\n"
     ]
    }
   ],
   "source": [
    "L = [15,7,5,34,34,34,8]\n",
    "print(L.count(34))"
   ]
  },
  {
   "cell_type": "code",
   "execution_count": 54,
   "id": "3bb13bac-ab7d-42dd-988a-5f8a4c358430",
   "metadata": {},
   "outputs": [
    {
     "name": "stdout",
     "output_type": "stream",
     "text": [
      "2\n"
     ]
    }
   ],
   "source": [
    "L = [15,7,5,8]\n",
    "print(L.index(5))"
   ]
  },
  {
   "cell_type": "code",
   "execution_count": 157,
   "id": "a9995e9c-cec0-4fb9-b066-d3b5bbd306fb",
   "metadata": {},
   "outputs": [
    {
     "name": "stdout",
     "output_type": "stream",
     "text": [
      "[5, 7, 8, 9, 15]\n"
     ]
    }
   ],
   "source": [
    "L = [15,7,5,8,9]\n",
    "L.sort()\n",
    "print(L)"
   ]
  },
  {
   "cell_type": "code",
   "execution_count": 58,
   "id": "f52f853e-f362-4f78-a3cc-2ab65d831a90",
   "metadata": {},
   "outputs": [
    {
     "name": "stdout",
     "output_type": "stream",
     "text": [
      "[9, 8, 5, 7, 15]\n"
     ]
    }
   ],
   "source": [
    "L = [15,7,5,8,9]\n",
    "L.reverse()\n",
    "print(L)"
   ]
  },
  {
   "cell_type": "code",
   "execution_count": 60,
   "id": "7d58fb20-cb2c-44b0-be35-880065ddae92",
   "metadata": {},
   "outputs": [
    {
     "name": "stdout",
     "output_type": "stream",
     "text": [
      "44\n"
     ]
    }
   ],
   "source": [
    "L = [15,7,5,8,9]\n",
    "print(sum(L))\n"
   ]
  },
  {
   "cell_type": "code",
   "execution_count": 62,
   "id": "80642aab-f9ac-4b35-91cc-75b097d29bfc",
   "metadata": {},
   "outputs": [
    {
     "name": "stdout",
     "output_type": "stream",
     "text": [
      "15\n"
     ]
    }
   ],
   "source": [
    "L = [15,7,5,8,9]\n",
    "print(max(L))"
   ]
  },
  {
   "cell_type": "code",
   "execution_count": 64,
   "id": "1caa3ac6-96b3-4f50-b767-7b6af3832bac",
   "metadata": {},
   "outputs": [
    {
     "name": "stdout",
     "output_type": "stream",
     "text": [
      "5\n"
     ]
    }
   ],
   "source": [
    "L = [15,7,5,8,9]\n",
    "print(min(L))"
   ]
  },
  {
   "cell_type": "code",
   "execution_count": 159,
   "id": "16fc2386-34b3-47ac-9031-0e6894b8a980",
   "metadata": {},
   "outputs": [
    {
     "name": "stdout",
     "output_type": "stream",
     "text": [
      "False\n"
     ]
    }
   ],
   "source": [
    "L = [15,7,5,8,9,0]\n",
    "print(all(L))"
   ]
  },
  {
   "cell_type": "code",
   "execution_count": 163,
   "id": "b118f098-a93a-4355-9886-e818ec8f1d96",
   "metadata": {},
   "outputs": [
    {
     "name": "stdout",
     "output_type": "stream",
     "text": [
      "True\n"
     ]
    }
   ],
   "source": [
    "L = [15,7,5,8,9,]\n",
    "print(any(L))\n"
   ]
  },
  {
   "cell_type": "code",
   "execution_count": 76,
   "id": "e832c8e0-a6c8-42e0-b739-a69ce4cd8bbc",
   "metadata": {},
   "outputs": [
    {
     "name": "stdout",
     "output_type": "stream",
     "text": [
      "7\n"
     ]
    }
   ],
   "source": [
    "L = [15,7,5,8,9,2,9]\n",
    "print(len(L))"
   ]
  },
  {
   "cell_type": "code",
   "execution_count": 92,
   "id": "4a8fe1d1-fb46-4857-b242-3e0ed758a594",
   "metadata": {},
   "outputs": [
    {
     "name": "stdout",
     "output_type": "stream",
     "text": [
      "6\n",
      "9\n"
     ]
    }
   ],
   "source": [
    "l=[1,2,3,4,5]\n",
    "l1=['a','hi',4512]\n",
    "l.append(l1)\n",
    "print(len(l))\n",
    "l.extend(l1)\n",
    "print(len(l))\n"
   ]
  },
  {
   "cell_type": "code",
   "execution_count": 98,
   "id": "4871a77d-e070-4b8d-94e5-d284bff21aea",
   "metadata": {},
   "outputs": [
    {
     "name": "stdout",
     "output_type": "stream",
     "text": [
      "[5, 8, 9, 2, 9]\n"
     ]
    }
   ],
   "source": [
    "L = [15,7,5,8,9,2,9]\n",
    "print(L[2:])"
   ]
  },
  {
   "cell_type": "code",
   "execution_count": 100,
   "id": "133ae458-099b-4fe5-a77d-462872a7d95f",
   "metadata": {},
   "outputs": [
    {
     "name": "stdout",
     "output_type": "stream",
     "text": [
      "[15, 7, 5, 8]\n"
     ]
    }
   ],
   "source": [
    "L = [15,7,5,8,9,2,9]\n",
    "print(L[:4])"
   ]
  },
  {
   "cell_type": "code",
   "execution_count": 114,
   "id": "3dafc8ad-e35d-4b58-b03b-5ebb7a00ca22",
   "metadata": {},
   "outputs": [
    {
     "name": "stdout",
     "output_type": "stream",
     "text": [
      "[5, 8, 9, 2]\n"
     ]
    }
   ],
   "source": [
    "L = [15,7,5,8,9,2,9]\n",
    "print(L[2:6])"
   ]
  },
  {
   "cell_type": "code",
   "execution_count": 112,
   "id": "14547ac2-e9d4-43c8-97b4-5656a53ed88b",
   "metadata": {},
   "outputs": [
    {
     "name": "stdout",
     "output_type": "stream",
     "text": [
      "[9]\n"
     ]
    }
   ],
   "source": [
    "L = [15,7,5,8,9,2,9,]\n",
    "print(L[-3:-2])"
   ]
  },
  {
   "cell_type": "code",
   "execution_count": 116,
   "id": "88f681d0-8a35-42af-bc02-e3d40f3a57db",
   "metadata": {},
   "outputs": [
    {
     "name": "stdout",
     "output_type": "stream",
     "text": [
      "[9, 2, 9, 8, 5, 7, 15]\n"
     ]
    }
   ],
   "source": [
    "L = [15,7,5,8,9,2,9,]\n",
    "print(L[::-1])"
   ]
  },
  {
   "cell_type": "code",
   "execution_count": 118,
   "id": "76acf3f2-2e7c-4b71-9ef3-ac4ac4076a73",
   "metadata": {},
   "outputs": [
    {
     "name": "stdout",
     "output_type": "stream",
     "text": [
      "[15, 5, 9, 9]\n"
     ]
    }
   ],
   "source": [
    "L = [15,7,5,8,9,2,9,]\n",
    "print(L[::2])"
   ]
  },
  {
   "cell_type": "code",
   "execution_count": 120,
   "id": "4f27883c-f1f3-41c7-8ccf-02e17daaa553",
   "metadata": {},
   "outputs": [
    {
     "name": "stdout",
     "output_type": "stream",
     "text": [
      "[7]\n"
     ]
    }
   ],
   "source": [
    "L = [15,7,5,8,9,2,9,]\n",
    "print(L[1:2:4])"
   ]
  },
  {
   "cell_type": "code",
   "execution_count": 124,
   "id": "ca81f36c-b65b-4530-94e4-07f565b8e1af",
   "metadata": {},
   "outputs": [
    {
     "name": "stdout",
     "output_type": "stream",
     "text": [
      "[15, 2]\n"
     ]
    }
   ],
   "source": [
    "L = [15,7,5,8,9,2,9,]\n",
    "print(L[::5])"
   ]
  },
  {
   "cell_type": "code",
   "execution_count": 128,
   "id": "efe2992e-fcfd-4b33-a878-fff48a0a8c97",
   "metadata": {},
   "outputs": [
    {
     "name": "stdout",
     "output_type": "stream",
     "text": [
      "[0, 5, 10, 15]\n"
     ]
    }
   ],
   "source": [
    "L=[0,1,2,3,4,5,6,7,8,9,10,11,12,13,14,15,16,17]\n",
    "print(L[::5])"
   ]
  },
  {
   "cell_type": "code",
   "execution_count": 145,
   "id": "468cbc3a-6393-4023-88d5-4c3a6fec57ef",
   "metadata": {},
   "outputs": [
    {
     "name": "stdout",
     "output_type": "stream",
     "text": [
      "['Scipy', 'Flask', 'Django', 'Tkinter']\n",
      "['Scipy', 'Flask', 'Django', 'Tkinter']\n",
      "['Python', 'Numpy']\n"
     ]
    }
   ],
   "source": [
    "n1 = ['Python','Flask','Django','Tkinter']\n",
    "n2 = n1\n",
    "n3 = n1[:2]\n",
    "\n",
    "n2[0] = 'Scipy'\n",
    "n3[1] = 'Numpy'\n",
    "\n",
    "for i in (n1,n2,n3):\n",
    "    print(i)"
   ]
  },
  {
   "cell_type": "code",
   "execution_count": null,
   "id": "46dd1c7f-21cc-4f00-9396-23b962d94626",
   "metadata": {},
   "outputs": [],
   "source": []
  },
  {
   "cell_type": "code",
   "execution_count": null,
   "id": "f750593e-02bd-4ec8-83e9-e0fb8a96d269",
   "metadata": {},
   "outputs": [],
   "source": []
  }
 ],
 "metadata": {
  "kernelspec": {
   "display_name": "anaconda-2024.02-py310",
   "language": "python",
   "name": "conda-env-anaconda-2024.02-py310-py"
  },
  "language_info": {
   "codemirror_mode": {
    "name": "ipython",
    "version": 3
   },
   "file_extension": ".py",
   "mimetype": "text/x-python",
   "name": "python",
   "nbconvert_exporter": "python",
   "pygments_lexer": "ipython3",
   "version": "3.10.14"
  }
 },
 "nbformat": 4,
 "nbformat_minor": 5
}

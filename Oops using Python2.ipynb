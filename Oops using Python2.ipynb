{
 "cells": [
  {
   "cell_type": "code",
   "execution_count": 63,
   "id": "f2628f2e-1211-46b5-9ad8-cd8d98bc980e",
   "metadata": {},
   "outputs": [
    {
     "name": "stdout",
     "output_type": "stream",
     "text": [
      "Hlo my name is Radhika and my age is 20\n",
      "My phn_number is 8919123964\n",
      "Hlo my name is Akshaya and my age is 21\n",
      "My phn_number is 6309829109\n"
     ]
    }
   ],
   "source": [
    "class Person:\n",
    "    def __init__(self,name,age,phn_number):\n",
    "        self.name=name\n",
    "        self.age=age\n",
    "        self.phn_number=phn_number\n",
    "\n",
    "    def spare(self):\n",
    "        print(f\"Hlo my name is {self.name} and my age is {self.age}\")\n",
    "        print(f\"My phn_number is {self.phn_number}\")\n",
    "\n",
    "Radhika=Person(\"Radhika\",\"20\",\"8919123964\")\n",
    "Akshaya=Person(\"Akshaya\",\"21\",\"6309829109\")\n",
    "\n",
    "Radhika.spare()\n",
    "Akshaya.spare()\n",
    "        "
   ]
  },
  {
   "cell_type": "code",
   "execution_count": 40,
   "id": "4f30b639-2a57-46da-8c83-2c345e03aaec",
   "metadata": {},
   "outputs": [
    {
     "name": "stdout",
     "output_type": "stream",
     "text": [
      " my name is Radhika and my age is 20 and my language is English\n"
     ]
    }
   ],
   "source": [
    "class Person:\n",
    "    def __init__(self,name,age):\n",
    "        self.name=name\n",
    "        self.age=age\n",
    "        \n",
    "    def speak(self,lang):\n",
    "        print(f\" my name is {self.name} and my age is {self.age} and my language is {lang}\")\n",
    "P1=Person(\"Radhika\",\"20\")\n",
    "\n",
    "P1.speak(\"English\")"
   ]
  },
  {
   "cell_type": "code",
   "execution_count": 51,
   "id": "6b0e531a-c0c7-449c-a5c4-64b103602c7e",
   "metadata": {},
   "outputs": [
    {
     "name": "stdout",
     "output_type": "stream",
     "text": [
      "This boi Minnu is cute and he is 2 old. His breed is lab\n",
      "This is Leo and he/she is 4\n"
     ]
    }
   ],
   "source": [
    "class Animal:\n",
    "    def __init__(self,name,age):\n",
    "        self.name=name\n",
    "        self.age=age\n",
    "    def description(self):\n",
    "        print(f\"This is {self.name} and he/she is {self.age}\")\n",
    "\n",
    "class Dog(Animal):\n",
    "    def __init__(self,name,age,breed):\n",
    "        super().__init__(name,age)\n",
    "        self.breed=breed\n",
    "\n",
    "    def description(self):\n",
    "        print(f\"This boi {self.name} is cute and he is {self.age} old. His breed is {self.breed}\")\n",
    "\n",
    "dog = Dog(\"Minnu\",\"2\",\"lab\")\n",
    "animal = Animal(\"Leo\",\"4\",)\n",
    "\n",
    "dog.description()\n",
    "animal.description()"
   ]
  },
  {
   "cell_type": "code",
   "execution_count": null,
   "id": "c760aba3-aed5-4c2f-9cf1-e0e741094617",
   "metadata": {},
   "outputs": [],
   "source": [
    "arr = input(\"Enter the list of numbers separated by spacs: \").split()\n",
    "arr = [int(x) for x in arr]\n",
    "\n",
    "target = int(input(\"Enter the target value to search: \"))\n",
    "\n",
    "found = False\n",
    "for i in range(len(arr)):\n",
    "    if arr[i] == target:\n",
    "        print(f\"Target {target} found at index {i}.\")\n",
    "        found = True\n",
    "        break\n",
    "\n",
    "if not found:\n",
    "    print(f\"Target {target} not found in the array.\")"
   ]
  },
  {
   "cell_type": "code",
   "execution_count": null,
   "id": "0e5ad369-dd7f-46a3-9f36-72ce0f40246a",
   "metadata": {},
   "outputs": [],
   "source": []
  }
 ],
 "metadata": {
  "kernelspec": {
   "display_name": "anaconda-2024.02-py310",
   "language": "python",
   "name": "conda-env-anaconda-2024.02-py310-py"
  },
  "language_info": {
   "codemirror_mode": {
    "name": "ipython",
    "version": 3
   },
   "file_extension": ".py",
   "mimetype": "text/x-python",
   "name": "python",
   "nbconvert_exporter": "python",
   "pygments_lexer": "ipython3",
   "version": "3.10.14"
  }
 },
 "nbformat": 4,
 "nbformat_minor": 5
}
